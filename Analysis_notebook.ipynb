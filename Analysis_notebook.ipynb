{
 "cells": [
  {
   "cell_type": "code",
   "execution_count": 2,
   "metadata": {},
   "outputs": [],
   "source": [
    "# -*- coding: utf-8 -*-\n",
    "\"\"\"\n",
    "Created on Mon Dec  3 22:59:59 2018\n",
    "\n",
    "@author: maroc\n",
    "\"\"\"\n",
    "\n",
    "# -*- coding: utf-8 -*-\n",
    "\"\"\"\n",
    "Created on Mon Dec  3 22:59:59 2018\n",
    "\n",
    "@author: maroc\n",
    "\"\"\"\n",
    "#preprocess imports\n",
    "from rdkit import Chem, DataStructs\n",
    "from rdkit.Chem import AllChem\n",
    "import numpy as np\n",
    "import pandas as pd\n",
    "\n",
    "\n",
    "df = pd.read_csv(\"concat2.csv\", sep=',') #read source 1\n",
    "\n",
    "suppl = Chem.SmilesMolSupplier('1000000.smi') #read source 2\n",
    "\n",
    "#turn data from source to into pd.DataFrame\n",
    "rows_list = []\n",
    "for mol in suppl:\n",
    "    if mol is None: continue\n",
    "    name = mol.GetProp(\"_Name\")\n",
    "    dict1 = {'molecule':name, 'Smiles':mol}\n",
    "    rows_list.append(dict1)\n",
    "X = pd.DataFrame(rows_list)\n",
    "\n",
    "#merge sources\n",
    "df = df.merge(X, how='inner', on='molecule')"
   ]
  },
  {
   "cell_type": "code",
   "execution_count": 3,
   "metadata": {},
   "outputs": [
    {
     "name": "stderr",
     "output_type": "stream",
     "text": [
      "D:\\Anaconda3\\lib\\site-packages\\ipykernel_launcher.py:8: SettingWithCopyWarning: \n",
      "A value is trying to be set on a copy of a slice from a DataFrame.\n",
      "Try using .loc[row_indexer,col_indexer] = value instead\n",
      "\n",
      "See the caveats in the documentation: http://pandas.pydata.org/pandas-docs/stable/indexing.html#indexing-view-versus-copy\n",
      "  \n"
     ]
    }
   ],
   "source": [
    "#preprocess data\n",
    "df = df.dropna(axis=0, how='any') #remove nans\n",
    "X = df[['Smiles']] #get x\n",
    "y = df.loc[:, df.columns != 'Smiles']#remove non-numeric columns from targets\n",
    "y = y.loc[:, y.columns != 'molecule']\n",
    "res_col = y.columns.get_loc('QPlogS')#save position of target parameter \n",
    "#get bit vector for training 1st model \n",
    "X['Smiles'] = X['Smiles'].apply(lambda x:\n",
    "    AllChem.GetMorganFingerprintAsBitVect(x, 2))\n",
    "\n",
    "#remove rows with nonumeric entities in numeric columns\n",
    "rows_with_strings  = y.apply(\n",
    "       lambda row : \n",
    "          any([ isinstance(e, str) for e in row ])\n",
    "       , axis=1)     \n",
    "y = y[~rows_with_strings]   \n",
    "X = X[~rows_with_strings] \n",
    "\n",
    "#transform data\n",
    "X = X['Smiles'].values.tolist()\n",
    "y = y.values.tolist()"
   ]
  },
  {
   "cell_type": "code",
   "execution_count": 4,
   "metadata": {},
   "outputs": [],
   "source": [
    "#split data to train/test set\n",
    "from sklearn.model_selection import train_test_split\n",
    "X_train, X_test, y_train, y_test = train_test_split(X, y, test_size=0.2)"
   ]
  },
  {
   "cell_type": "code",
   "execution_count": 5,
   "metadata": {},
   "outputs": [],
   "source": [
    "#separate data to minibatches\n",
    "num = 100\n",
    "Xs = np.array_split(X_train, num)\n",
    "ys = np.array_split(y_train, num)\n",
    "\n",
    "Xs2 = np.array_split(X_test, num)\n",
    "ys2 = np.array_split(y_test, num)\n"
   ]
  },
  {
   "cell_type": "code",
   "execution_count": 6,
   "metadata": {},
   "outputs": [],
   "source": [
    "#training imports\n",
    "from random import randint\n",
    "from sklearn import linear_model\n",
    "from sklearn.metrics import mean_squared_error\n",
    "from sklearn.pipeline import make_pipeline\n",
    "from sklearn.preprocessing import PolynomialFeatures"
   ]
  },
  {
   "cell_type": "code",
   "execution_count": null,
   "metadata": {},
   "outputs": [
    {
     "name": "stderr",
     "output_type": "stream",
     "text": [
      "[Parallel(n_jobs=-1)]: Using backend ThreadingBackend with 12 concurrent workers.\n",
      "......................................................................................."
     ]
    }
   ],
   "source": [
    "#select alpha and initial parameters for the first model by 1% of data\n",
    "regr = linear_model.MultiTaskLassoCV(n_alphas=150, max_iter=1000, cv=10, n_jobs = -1, verbose=True)\n",
    "\n",
    "#train on some minibatch\n",
    "i = randint(0, 99)\n",
    "X_tr = Xs[i]\n",
    "y_tr = ys[i]\n",
    "X_te = Xs2[i]\n",
    "y_te = ys2[i]\n",
    "regr.fit(X_tr, y_tr)\n",
    "#save parameters\n",
    "alphas = regr.alphas_\n",
    "alpha = alphas[len(alphas)-1]*20\n",
    "coeffs = regr.coef_\n",
    "ints = regr.intercept_ \n",
    "print(\"batch\", i)\n",
    "print(alpha)"
   ]
  },
  {
   "cell_type": "code",
   "execution_count": null,
   "metadata": {},
   "outputs": [],
   "source": [
    "#train first model on the whole dataset using parameters from previous step\n",
    "regr_main = linear_model.MultiTaskLasso(alpha = alpha, max_iter=1000, warm_start=True )\n",
    "regr_main.coef_ = coeffs\n",
    "regr_main.intercept_ = ints\n",
    "regr_main.fit(X_train, y_train)"
   ]
  },
  {
   "cell_type": "code",
   "execution_count": null,
   "metadata": {},
   "outputs": [],
   "source": [
    "#check 1st model\n",
    "pred = regr_main.predict(X_test)\n",
    "err = ((y_test - pred)**2).mean(axis=0)\n",
    "\n",
    "print(err) #mse on main target was about 0.7"
   ]
  },
  {
   "cell_type": "code",
   "execution_count": null,
   "metadata": {},
   "outputs": [],
   "source": [
    "#get pre-initial alphas for second model\n",
    "#auto-search gave some poor results\n",
    "alph_num = 20\n",
    "alphas =np.ones(alph_num,)*alphas[len(alphas)-1]*20\n",
    "for i in range(alph_num-1):\n",
    "    alphas[i+1] = 0.7*alphas[i]"
   ]
  },
  {
   "cell_type": "code",
   "execution_count": null,
   "metadata": {},
   "outputs": [],
   "source": [
    "#select alpha and initial parameters for the second model by 1% of data\n",
    "regr1 =make_pipeline(PolynomialFeatures(degree=2, interaction_only=False), linear_model.LassoCV( alphas=alphas, max_iter=5000, verbose=True, cv=20, n_jobs = -1))\n",
    "\n",
    "i = randint(0, 99)\n",
    "X_tr = Xs[i]\n",
    "y_tr = ys[i]\n",
    "X_te = Xs2[i]\n",
    "y_te = ys2[i]\n",
    "pred = regr_main.predict(X_tr) #get inputs by previous model\n",
    "target = y_tr[:, res_col] #get target column\n",
    "regr1.fit(pred, target)"
   ]
  },
  {
   "cell_type": "code",
   "execution_count": null,
   "metadata": {},
   "outputs": [],
   "source": [
    "#check results of 2nd pre-model\n",
    "pred2 = regr_main.predict(X_te)\n",
    "pred_fin = regr1.predict(pred2)\n",
    "err = (mean_squared_error(y_te[:, res_col], pred_fin))\n",
    "print(\"iter\", i)\n",
    "print(\"err\", err)"
   ]
  },
  {
   "cell_type": "code",
   "execution_count": null,
   "metadata": {},
   "outputs": [],
   "source": [
    "#save parameters\n",
    "coef = regr1.named_steps.lassocv.coef_\n",
    "alpha = regr1.named_steps.lassocv.alpha_ \n",
    "inter = regr1.named_steps.lassocv.intercept_\n"
   ]
  },
  {
   "cell_type": "code",
   "execution_count": null,
   "metadata": {},
   "outputs": [],
   "source": [
    "#initialize 2nd model with ready parameters\n",
    "regr_fin = make_pipeline(PolynomialFeatures(degree=2, interaction_only=False), linear_model.Lasso( alpha=alpha, max_iter=5000,  warm_start=True))\n",
    "regr_fin.coef_ = coef\n",
    "regr_fin.intercept_ = ints\n",
    "#get input for training 2-nd model of full dataset\n",
    "pred = regr_main.predict(X_train)\n",
    "#get input column for training\n",
    "target = np.asarray(y_train)[:, res_col]\n",
    "regr_fin.fit(pred, target) #train 2nd model"
   ]
  },
  {
   "cell_type": "code",
   "execution_count": null,
   "metadata": {},
   "outputs": [],
   "source": [
    "#check full model on test set\n",
    "input_fin = regr_main.predict(X_test)\n",
    "res_fin = regr_fin.predict(input_fin)\n",
    "print(mean_squared_error(np.asarray(y_test)[:, res_col], res_fin))\n",
    "#mse is 0.5465438787065124\n",
    "# in case of linear regresion it werec about 0.58"
   ]
  },
  {
   "cell_type": "code",
   "execution_count": null,
   "metadata": {},
   "outputs": [],
   "source": [
    "#Validate final results\n",
    "from sklearn.metrics import explained_variance_score\n",
    "\n",
    "print(explained_variance_score(np.asarray(y_test)[:, res_col], res_fin))\n",
    "#explained variance 0.7576613962521102"
   ]
  },
  {
   "cell_type": "code",
   "execution_count": null,
   "metadata": {},
   "outputs": [],
   "source": [
    "#Save results\n",
    "#create df for columns\n",
    "y2 = df.loc[:, df.columns != 'Smiles']\n",
    "y2 = y2.loc[:, y2.columns != 'molecule']\n",
    "#we don't have actual parameters - only predictions from bits\n",
    "#This is true for all parameters, but I noted it for purpose only\n",
    "#as predicting QPlogS from QPlogS would sound a bit strange\n",
    "y2 = y2.rename(columns={\"QPlogS\": \"PredictionFromBits\"})"
   ]
  },
  {
   "cell_type": "code",
   "execution_count": null,
   "metadata": {},
   "outputs": [],
   "source": [
    "poly = regr_fin.named_steps.polynomialfeatures\n",
    "fts = poly.get_feature_names(y2.columns)\n",
    "results =pd.DataFrame(coef, fts)\n",
    "results.to_csv(\"results.csv\", sep=';')"
   ]
  },
  {
   "cell_type": "code",
   "execution_count": null,
   "metadata": {},
   "outputs": [],
   "source": []
  },
  {
   "cell_type": "code",
   "execution_count": null,
   "metadata": {},
   "outputs": [],
   "source": []
  },
  {
   "cell_type": "code",
   "execution_count": null,
   "metadata": {},
   "outputs": [],
   "source": []
  }
 ],
 "metadata": {
  "kernelspec": {
   "display_name": "Python 3",
   "language": "python",
   "name": "python3"
  },
  "language_info": {
   "codemirror_mode": {
    "name": "ipython",
    "version": 3
   },
   "file_extension": ".py",
   "mimetype": "text/x-python",
   "name": "python",
   "nbconvert_exporter": "python",
   "pygments_lexer": "ipython3",
   "version": "3.6.10"
  }
 },
 "nbformat": 4,
 "nbformat_minor": 2
}
